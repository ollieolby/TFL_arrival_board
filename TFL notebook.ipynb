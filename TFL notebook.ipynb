{
 "cells": [
  {
   "cell_type": "markdown",
   "id": "0876349f-c9b3-42e3-a37a-3529e436146c",
   "metadata": {},
   "source": [
    "Let me start by outlining a problem I had. I live in a very unique part of London. I live equidistant from 2 district line stations. This is not unique, the uniqueness comes from both stations being on separate branches of the district line which join when going eastbound. This means that every time I leave the house to go eastbound, I need to check which station to go to to arrive faster. This means walking down my road with my phone out frantically searching on google maps to find the faster route (just finding the directions isnt efficient as it normally sets your departure time a few minutes after your actual departure time). I appreciate this is a small problem, but I am fortunate enough to be able to solve it and have some fun, so I gave it a go.\n",
    "\n",
    "Firstly, TFL has a brilliant free to use API, so step one was trying to decode the outputs from that."
   ]
  },
  {
   "cell_type": "code",
   "execution_count": 6,
   "id": "c7577cf4-e316-46c2-a0f1-38f0490c3e44",
   "metadata": {},
   "outputs": [
    {
     "name": "stdout",
     "output_type": "stream",
     "text": [
      "{'$type': 'Tfl.Api.Presentation.Entities.Prediction, Tfl.Api.Presentation.Entities', 'id': '-449862963', 'operationType': 1, 'vehicleId': '101', 'naptanId': '940GZZLUDGE', 'stationName': 'Dagenham East Underground Station', 'lineId': 'district', 'lineName': 'District', 'platformName': 'Eastbound - Platform 2', 'direction': 'outbound', 'bearing': '', 'destinationNaptanId': '940GZZLUUPM', 'destinationName': 'Upminster Underground Station', 'timestamp': '2025-03-11T09:18:06.1192467Z', 'timeToStation': 1175, 'currentLocation': 'Left Plaistow', 'towards': 'Upminster', 'expectedArrival': '2025-03-11T09:37:41Z', 'timeToLive': '2025-03-11T09:37:41Z', 'modeName': 'tube', 'timing': {'$type': 'Tfl.Api.Presentation.Entities.PredictionTiming, Tfl.Api.Presentation.Entities', 'countdownServerAdjustment': '00:00:00', 'source': '0001-01-01T00:00:00', 'insert': '0001-01-01T00:00:00', 'read': '2025-03-11T09:18:52.741Z', 'sent': '2025-03-11T09:18:06Z', 'received': '0001-01-01T00:00:00'}}\n"
     ]
    }
   ],
   "source": [
    "import requests\n",
    "\n",
    "# Base URL of the API\n",
    "url = \"https://api.tfl.gov.uk/line/district/arrivals\"\n",
    "# Make a GET request to the API\n",
    "try:\n",
    "    response = requests.get(url)\n",
    "    # Check if the request was successful\n",
    "    response.raise_for_status()  # This will raise an HTTPError if the response was an unsuccessful status\n",
    "except requests.exceptions.HTTPError as http_err:\n",
    "    print(f\"HTTP error occurred: {http_err}\")  # Handle specific HTTP errors\n",
    "except Exception as err:\n",
    "    print(f\"Other error occurred: {err}\")  # Handle other types of exceptions\n",
    "else:\n",
    "    # Parse the JSON response\n",
    "    data = response.json()\n",
    "print(data[0])"
   ]
  },
  {
   "cell_type": "markdown",
   "id": "32dd8954-d6c9-4c77-b3ae-f0a3c3097038",
   "metadata": {},
   "source": [
    "Great! now we have an output. So it looks like here we have 'currentLocation', 'platformName', 'destinationName' (important for lines with branches) and 'expectedArrival' which are important fields.\n",
    "\n",
    "Lets decode what is going on here:\n",
    "This API response is predicting the arrival of a District Line train at Dagenham East (Eastbound, Platform 2). The train is currently past Plaistow, heading towards Upminster, and is expected to arrive at 09:37:41 UTC (≈19.6 minutes from the timestamp).\n",
    "\n"
   ]
  }
 ],
 "metadata": {
  "kernelspec": {
   "display_name": "Python 3 (ipykernel)",
   "language": "python",
   "name": "python3"
  },
  "language_info": {
   "codemirror_mode": {
    "name": "ipython",
    "version": 3
   },
   "file_extension": ".py",
   "mimetype": "text/x-python",
   "name": "python",
   "nbconvert_exporter": "python",
   "pygments_lexer": "ipython3",
   "version": "3.11.5"
  }
 },
 "nbformat": 4,
 "nbformat_minor": 5
}
